{
  "nbformat": 4,
  "nbformat_minor": 0,
  "metadata": {
    "colab": {
      "provenance": []
    },
    "kernelspec": {
      "name": "python3",
      "display_name": "Python 3"
    },
    "language_info": {
      "name": "python"
    }
  },
  "cells": [
    {
      "cell_type": "code",
      "execution_count": 1,
      "metadata": {
        "colab": {
          "base_uri": "https://localhost:8080/"
        },
        "id": "GFHt0EdPTRYO",
        "outputId": "d38237e4-bac0-4cf6-f29c-c1516a426485"
      },
      "outputs": [
        {
          "output_type": "stream",
          "name": "stdout",
          "text": [
            "1\n",
            "2\n",
            "3\n",
            "4\n",
            "5\n",
            "6\n",
            "KHÔNG PHẢI TAM GIÁC\n"
          ]
        }
      ],
      "source": [
        "import math\n",
        "x1 = int(input())\n",
        "y1 = int(input())\n",
        "x2 = int(input())\n",
        "y2 = int(input())\n",
        "x3 = int(input())\n",
        "y3 = int(input())\n",
        "d1 = math.sqrt(math.pow(math.fabs(x1-x2), 2) + math.pow(math.fabs(y1-y2), 2))\n",
        "d2 = math.sqrt(math.pow(math.fabs(x1-x3), 2) + math.pow(math.fabs(y1-y3), 2))\n",
        "d3 = math.sqrt(math.pow(math.fabs(x2-x3), 2) + math.pow(math.fabs(y2-y3), 2))\n",
        "if d1 + d2 <= d3:\n",
        "    print(\"KHÔNG PHẢI TAM GIÁC\")\n",
        "elif d1 + d3 <= d2:\n",
        "    print(\"KHÔNG PHẢI TAM GIÁC\")\n",
        "elif d2 + d3 <= d1:\n",
        "     print(\"KHÔNG PHẢI TAM GIÁC\")\n",
        "else:\n",
        "    print(\"TAM GIÁC\")\n"
      ]
    },
    {
      "cell_type": "code",
      "source": [
        "n = int(input())\n",
        "m = int(input())\n",
        "for i in range(0, n):\n",
        "    s = input()\n",
        "    ans = \"\"\n",
        "    tmp = len(s)\n",
        "    for j in range(tmp - m):\n",
        "        ans = ans + s[j]\n",
        "    for j in range(tmp - 1, m - 1, -1):\n",
        "        ans = ans + s[j]\n",
        "    print(ans)\n",
        "\n"
      ],
      "metadata": {
        "colab": {
          "base_uri": "https://localhost:8080/"
        },
        "id": "UgsDjprnTeSL",
        "outputId": "6018231e-39a8-492c-f2c5-c616de60aa26"
      },
      "execution_count": 3,
      "outputs": [
        {
          "output_type": "stream",
          "name": "stdout",
          "text": [
            "2\n",
            "3\n",
            "123456\n",
            "123654\n",
            "456789\n",
            "456987\n"
          ]
        }
      ]
    },
    {
      "cell_type": "code",
      "source": [
        "d = int(input())\n",
        "for i in range (0, d):\n",
        "    a, b, c = str(input()), int(input()), int(input())\n",
        "    diem = b + c\n",
        "    if (diem >= 190):\n",
        "        print(i+1, a, diem, \"Xuất sắc\", sep= \" \")\n",
        "    elif (diem >= 150):\n",
        "        print(i+1, a, diem, \"Giỏi\", sep= \" \")\n",
        "    elif (diem >= 100):\n",
        "        print(i+1, a, diem, \"Khá\", sep= \" \")\n",
        "    else:\n",
        "         print(i+1, a, diem, \"Yếu\", sep= \" \")\n"
      ],
      "metadata": {
        "colab": {
          "base_uri": "https://localhost:8080/"
        },
        "id": "eMbmGqr7Tt1B",
        "outputId": "69ef158d-b8cc-4f21-b403-c06f6f3d4c78"
      },
      "execution_count": 4,
      "outputs": [
        {
          "output_type": "stream",
          "name": "stdout",
          "text": [
            "1\n",
            "Thuận\n",
            "40\n",
            "50\n",
            "1 Thuận 90 Yếu\n"
          ]
        }
      ]
    },
    {
      "cell_type": "code",
      "source": [
        "n = int(input())\n",
        "if n >= 1:\n",
        "    print(\"YES\")\n",
        "else: print(\"NO\")"
      ],
      "metadata": {
        "colab": {
          "base_uri": "https://localhost:8080/"
        },
        "id": "kay9VYcpTywa",
        "outputId": "1ef7ee7b-8309-4bf3-c736-fa28a1cd8f6c"
      },
      "execution_count": 5,
      "outputs": [
        {
          "output_type": "stream",
          "name": "stdout",
          "text": [
            "1\n",
            "YES\n"
          ]
        }
      ]
    }
  ]
}